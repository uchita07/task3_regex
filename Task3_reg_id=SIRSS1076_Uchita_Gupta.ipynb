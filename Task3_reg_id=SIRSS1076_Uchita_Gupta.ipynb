{
  "nbformat": 4,
  "nbformat_minor": 0,
  "metadata": {
    "colab": {
      "name": "Task3_reg_id=SIRSS1076_Uchita_Gupta.ipynb",
      "provenance": []
    },
    "kernelspec": {
      "name": "python3",
      "display_name": "Python 3"
    },
    "language_info": {
      "name": "python"
    }
  },
  "cells": [
    {
      "cell_type": "code",
      "metadata": {
        "colab": {
          "base_uri": "https://localhost:8080/"
        },
        "id": "4PH3uDeNLwSR",
        "outputId": "ef37baf9-1da0-4f18-ba9d-5e0f749d92bc"
      },
      "source": [
        "#Write a function to return nth term of Fibonacci sequence.\n",
        "def f(n):\n",
        "  l=[1,1]\n",
        "  a=1\n",
        "  b=1\n",
        "  for i in range(3,n+1):\n",
        "      l.append(a+b)\n",
        "      a,b=b+a,a\n",
        "  return l\n",
        "print(f(6))"
      ],
      "execution_count": 1,
      "outputs": [
        {
          "output_type": "stream",
          "text": [
            "[1, 1, 2, 3, 5, 8]\n"
          ],
          "name": "stdout"
        }
      ]
    },
    {
      "cell_type": "code",
      "metadata": {
        "colab": {
          "base_uri": "https://localhost:8080/"
        },
        "id": "zdtPrQJWQqOG",
        "outputId": "b14db7ff-effd-4772-b54f-ae5042877c11"
      },
      "source": [
        "#Write a function to find out GCD of two numbers using EUCLID'S algorithm.\n",
        "def gcd(a ,b):\n",
        "    if(a==0):\n",
        "        return b\n",
        "    if(b==0):\n",
        "        return a\n",
        "    if(a==b):\n",
        "        return a\n",
        "    if(a>b):\n",
        "        gcd(a-b,b)\n",
        "    return gcd(a,b-a)\n",
        "print(gcd(14,28))"
      ],
      "execution_count": 5,
      "outputs": [
        {
          "output_type": "stream",
          "text": [
            "14\n"
          ],
          "name": "stdout"
        }
      ]
    },
    {
      "cell_type": "code",
      "metadata": {
        "id": "eJaBA_UmUkRy"
      },
      "source": [
        "#Write a function to find LCM of two number in most optimizers way.\n",
        "def lcm(a,b):\n",
        "    if(a>b):\n",
        "           g=ab\n",
        "    else:\n",
        "       g=b\n",
        "    while(True):\n",
        "       if(g%a==0 and g%b==0):\n",
        "           return g\n",
        "       g=g+1"
      ],
      "execution_count": 6,
      "outputs": []
    },
    {
      "cell_type": "code",
      "metadata": {
        "colab": {
          "base_uri": "https://localhost:8080/"
        },
        "id": "S2hhmj-uYCzi",
        "outputId": "99b00de1-9a0f-4774-accd-d655d85b3778"
      },
      "source": [
        "lcm(5,7)"
      ],
      "execution_count": 7,
      "outputs": [
        {
          "output_type": "execute_result",
          "data": {
            "text/plain": [
              "35"
            ]
          },
          "metadata": {
            "tags": []
          },
          "execution_count": 7
        }
      ]
    }
  ]
}